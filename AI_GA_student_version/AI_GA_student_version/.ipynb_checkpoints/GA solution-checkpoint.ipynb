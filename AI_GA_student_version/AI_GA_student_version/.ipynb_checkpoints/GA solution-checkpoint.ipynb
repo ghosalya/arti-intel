{
 "cells": [
  {
   "cell_type": "code",
   "execution_count": null,
   "metadata": {},
   "outputs": [],
   "source": [
    "from gameplay import * \n",
    "import player\n",
    "import numpy as np\n",
    "from random import randint\n",
    "import random \n",
    "import copy\n",
    "from genetic_algorithm import *"
   ]
  },
  {
   "cell_type": "code",
   "execution_count": null,
   "metadata": {
    "scrolled": true
   },
   "outputs": [],
   "source": [
    "probability_game = True\n",
    "use_multinomial= True\n",
    "G = GeneticAlgorithm(population_size = 10, probability_game = probability_game, use_multinomial = use_multinomial)"
   ]
  },
  {
   "cell_type": "code",
   "execution_count": null,
   "metadata": {},
   "outputs": [],
   "source": [
    "fittest_player = G.run_genetic_algorithm(10)"
   ]
  },
  {
   "cell_type": "code",
   "execution_count": null,
   "metadata": {},
   "outputs": [],
   "source": [
    "fittest_player.attributes.print_attributes()"
   ]
  },
  {
   "cell_type": "code",
   "execution_count": null,
   "metadata": {},
   "outputs": [],
   "source": [
    "G.game.play(fittest_player, 50, probability_game = probability_game, use_multinomial = use_multinomial, printout = True)"
   ]
  }
 ],
 "metadata": {
  "kernelspec": {
   "display_name": "Python 3",
   "language": "python",
   "name": "python3"
  },
  "language_info": {
   "codemirror_mode": {
    "name": "ipython",
    "version": 3
   },
   "file_extension": ".py",
   "mimetype": "text/x-python",
   "name": "python",
   "nbconvert_exporter": "python",
   "pygments_lexer": "ipython3",
   "version": "3.6.5"
  }
 },
 "nbformat": 4,
 "nbformat_minor": 2
}
