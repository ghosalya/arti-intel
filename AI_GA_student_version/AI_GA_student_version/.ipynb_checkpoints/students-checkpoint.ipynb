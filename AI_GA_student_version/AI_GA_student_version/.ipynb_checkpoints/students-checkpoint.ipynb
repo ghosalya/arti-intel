{
 "cells": [
  {
   "cell_type": "code",
   "execution_count": 1,
   "metadata": {},
   "outputs": [],
   "source": [
    "import numpy as np\n",
    "from disasters import *\n",
    "from player import *\n",
    "from gameplay import *"
   ]
  },
  {
   "cell_type": "code",
   "execution_count": 2,
   "metadata": {},
   "outputs": [
    {
     "name": "stdout",
     "output_type": "stream",
     "text": [
      "Initializing Game...\n",
      "Siren created\n",
      "Tornado created\n",
      "Pirate created\n",
      "Shark created\n",
      "OceanGhost created\n",
      "Sea Monster created\n",
      "Battleship created\n",
      "Devil created\n"
     ]
    }
   ],
   "source": [
    "game = GamePlay()"
   ]
  },
  {
   "cell_type": "code",
   "execution_count": 3,
   "metadata": {},
   "outputs": [
    {
     "name": "stdout",
     "output_type": "stream",
     "text": [
      "Attributes are Strength:0 Agility:0 Intelligence:2 Charm:3 Vitality:1 Stamina:3 Spirit:2 \n",
      "None\n"
     ]
    }
   ],
   "source": [
    "student = Player(\"Student\")\n",
    "student.randomize_attribute()\n",
    "print(student.attributes.print_attributes())"
   ]
  },
  {
   "cell_type": "code",
   "execution_count": 4,
   "metadata": {},
   "outputs": [
    {
     "name": "stdout",
     "output_type": "stream",
     "text": [
      "\n",
      "\t\t\t\t\t\t\t\t\t\t  _,,_,-'       `-.               \n",
      "\t\t\t\t\t\t\t\t\t\t,'    .\" \" _,.,-'  \\              \n",
      "\t\t\t\t\t\t\t\t\t   /    ,----''   \\_  \\ )             \n",
      "\t\t\t-.-                        |   || -.  ,-.  ))   `\\            \n",
      "\t   -.-                             ||    >a )  a   '/ |  /            \n",
      "\t\t   -.-                          \\  (  <_      / /  |             \n",
      "\t\t\t\t\t\t\t\t\t\t `.  \\  ___   /     |             \n",
      "\t\t\t\t\t\t\t\t,---.      \\ \\`. -' ,'|   \\  \\            \n",
      "\t\t\t\t\t\t\t   /     `,''`-.\\  \\`--'| | |  `.\\`.          \n",
      "\t\t\t\t\t\t\t  / / , ,'  /`--' ) | __| | | |     \\         \n",
      "\t\t\t\t\t\t  `--' ' / /   /  -- _,-''    |   |   \\  |        \n",
      "\t\t\t\t\t\t-.__,,-  ,'   /--_,-'         /      | | |        \n",
      "\t\t\t\t\t   -_    _, /    /,-'     ___   ,' /|      | |        \n",
      "\t\t\t\t\t  `-._..   /   ,'     _,-' ,---'  ,' /       |        \n",
      "\t\t\t\t\t   -__    /       _,-'_,-,'    -'   /       /         \n",
      "\t\t\t\t\t  -_ `  -|    _,-'- ,'  /       -',   ,  | |          \n",
      "\t\t\t\t\t\t`-.  `---'  _,-'   /  ,'        ,/  ,\\ |          \n",
      "\t\t\t\t\t\t   ``-----''  __,-'  / ,' ,    /|  / /`.\\_,       \n",
      "\t\t\t\t\t\t\t\t   ,-'     -' '  /    / | /  |  `\\        \n",
      "\t\t\t\t\t\t`--.__,,--'     ,--'    ','/ /  \\(   /\\   \\       \n",
      "\t _,---._               -..__,,-' ,      -'   _, /    `' /  \\   \\      \n",
      "\t/       \\              -. `----'' __,,----.__,-'-   -  -|   >   )     \n",
      "~~~~~~~~~~~~~~~~~~~~~~~~~~~~~`\"\"----''~~~~~~~~~~|-'       '-/~~/   /~~~~~~\n",
      "\t~ ~~ ~~ ~                -     -  _  -    __|' '-  `- -/_ /  ,' -  _  \n",
      "  -  ~   ~ ~         -    _     -   _      ,-'`- `-' '-'-'-| /  /    -    \n",
      "\t   ~ ~      -             _      _,,--'`- `-`- -' -''-'|/ ,'  _    -  \n",
      " -    ~ ~ ~           -          ,-'' `-` `- `- `-`-`-'-' '| (_ -    -    \n",
      "   _   ~   ~              `-  ,-' --`- `-`-`-`- `-`- `- `-'/. ,--,,, _   _\n",
      " -    ~  ~   `-   -'  -'-   ,' `-'`- `-`- `- `-`- -`-`- `,'  `'     ''--. \n",
      "\t   ~    `-  '-        ,' `-`- -' `- `-- `-_`_,`,,`--'                }\n",
      "  -  ~  -`-   -'-  -'--  / `-' `-`-'`-,-`--'''                  ___,,-  | \n",
      " ,-'-  ~  -`-  -'-  _,--/`- -'`-'`-,-'        _,,__                     | \n",
      "   -''---'  --'--,-'   /`-' `- -','            \\   `-. --'             /  \n",
      " -'-._.-' `--.,-'     /  `-`-'  /               | | / \\            hjm/_  \n",
      "\t\t\t,'       / `- `-`-,'       __,,--   | | /  |---._           | \n",
      "\t\t\t\t\t/ `-' `- /     __,'         /`-  / ,---__\\          | \n",
      "\t\t\t\t\t\t -','    ,'          ,-'`- `- ,---___ \\           \n",
      "\t\t\t\t\t\t\t\t\t\t  ,-' `- `-_`,--''   ``  \n",
      "\n",
      "\n",
      "\n",
      "   \n",
      "Student survived for : 0 days out of 30 days, and then killed by a Siren\n"
     ]
    }
   ],
   "source": [
    "days_survived = game.play(student,30, probability_game = True, use_multinomial = False, printout = True)"
   ]
  }
 ],
 "metadata": {
  "kernelspec": {
   "display_name": "Python 3",
   "language": "python",
   "name": "python3"
  },
  "language_info": {
   "codemirror_mode": {
    "name": "ipython",
    "version": 3
   },
   "file_extension": ".py",
   "mimetype": "text/x-python",
   "name": "python",
   "nbconvert_exporter": "python",
   "pygments_lexer": "ipython3",
   "version": "3.6.5"
  }
 },
 "nbformat": 4,
 "nbformat_minor": 2
}
