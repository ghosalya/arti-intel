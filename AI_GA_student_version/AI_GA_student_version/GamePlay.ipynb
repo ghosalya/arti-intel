{
 "cells": [
  {
   "cell_type": "code",
   "execution_count": 1,
   "metadata": {},
   "outputs": [],
   "source": [
    "import numpy as np\n",
    "from disasters import *\n",
    "from player import *\n",
    "from gameplay import *"
   ]
  },
  {
   "cell_type": "code",
   "execution_count": 2,
   "metadata": {},
   "outputs": [
    {
     "name": "stdout",
     "output_type": "stream",
     "text": [
      "Initializing Game...\n",
      "Siren created\n",
      "Tornado created\n",
      "Pirate created\n",
      "Shark created\n",
      "OceanGhost created\n",
      "Sea Monster created\n",
      "Battleship created\n",
      "Devil created\n"
     ]
    }
   ],
   "source": [
    "game = GamePlay()"
   ]
  },
  {
   "cell_type": "code",
   "execution_count": 5,
   "metadata": {},
   "outputs": [
    {
     "name": "stdout",
     "output_type": "stream",
     "text": [
      "Attributes are Strength:3 Agility:1 Intelligence:0 Charm:0 Vitality:3 Stamina:3 Spirit:1 \n",
      "None\n"
     ]
    }
   ],
   "source": [
    "student = Player(\"Student\")\n",
    "student.randomize_attribute()\n",
    "print(student.attributes.print_attributes())"
   ]
  },
  {
   "cell_type": "code",
   "execution_count": 6,
   "metadata": {},
   "outputs": [
    {
     "name": "stdout",
     "output_type": "stream",
     "text": [
      "\n",
      "                                     |__\n",
      "                                     |\\/\n",
      "                                     ---\n",
      "                                     / | [\n",
      "                              !      | |||\n",
      "                            _/|     _/|-++'\n",
      "                        +  +--|    |--|--|_ |-\n",
      "                     { /|__|  |/\\__|  |--- |||__/\n",
      "                    +---------------___[}-_===_.'____                 /\n",
      "                ____`-' ||___-{]_| _[}-  |     |_[___\\==--            \\/   _\n",
      " __..._____--==/___]_|__|_____________________________[___\\==--____,------' .7\n",
      "|                                                                     BB-61/\n",
      " \\_________________________________________________________________________|\n",
      "\n",
      "\n",
      "\t\n",
      "Student survived for : 12 days out of 30 days, and then killed by a Battleship\n"
     ]
    }
   ],
   "source": [
    "days_survived = game.play(student,30, probability_game = True, use_multinomial = False, printout = True)"
   ]
  },
  {
   "cell_type": "code",
   "execution_count": null,
   "metadata": {},
   "outputs": [],
   "source": []
  }
 ],
 "metadata": {
  "kernelspec": {
   "display_name": "Python 3",
   "language": "python",
   "name": "python3"
  },
  "language_info": {
   "codemirror_mode": {
    "name": "ipython",
    "version": 3
   },
   "file_extension": ".py",
   "mimetype": "text/x-python",
   "name": "python",
   "nbconvert_exporter": "python",
   "pygments_lexer": "ipython3",
   "version": "3.6.4"
  }
 },
 "nbformat": 4,
 "nbformat_minor": 2
}
