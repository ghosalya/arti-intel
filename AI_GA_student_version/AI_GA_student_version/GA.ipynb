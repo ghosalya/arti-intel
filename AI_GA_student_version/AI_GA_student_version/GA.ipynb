{
 "cells": [
  {
   "cell_type": "code",
   "execution_count": 1,
   "metadata": {},
   "outputs": [],
   "source": [
    "from gameplay import * \n",
    "import player\n",
    "import numpy as np\n",
    "from random import randint\n",
    "import random \n",
    "import copy\n",
    "from genetic_algorithm import *"
   ]
  },
  {
   "cell_type": "code",
   "execution_count": 2,
   "metadata": {},
   "outputs": [
    {
     "name": "stdout",
     "output_type": "stream",
     "text": [
      "Initializing Game...\n",
      "Siren created\n",
      "Tornado created\n",
      "Pirate created\n",
      "Shark created\n",
      "OceanGhost created\n",
      "Sea Monster created\n",
      "Battleship created\n",
      "Devil created\n"
     ]
    }
   ],
   "source": [
    "probability_game = True\n",
    "use_multinomial= True\n",
    "G = GeneticAlgorithm(population_size = 100, probability_game = probability_game, use_multinomial = use_multinomial)"
   ]
  },
  {
   "cell_type": "code",
   "execution_count": 3,
   "metadata": {},
   "outputs": [
    {
     "name": "stdout",
     "output_type": "stream",
     "text": [
      "====Generation 0 average fitness: 6.271999999999997====\n",
      "====Generation 1 average fitness: 17.639999999999997====\n",
      "====Generation 2 average fitness: 27.624000000000002====\n",
      "====Generation 3 average fitness: 30.31400000000001====\n",
      "====Generation 4 average fitness: 32.358====\n",
      "====Generation 5 average fitness: 34.52799999999999====\n",
      "====Generation 6 average fitness: 34.69199999999999====\n",
      "====Generation 7 average fitness: 33.426====\n",
      "====Generation 8 average fitness: 33.02400000000001====\n",
      "====Generation 9 average fitness: 35.792000000000016====\n",
      "Fittest player fitness value: 77.2\n"
     ]
    }
   ],
   "source": [
    "fittest_player = G.run_genetic_algorithm(10)"
   ]
  },
  {
   "cell_type": "code",
   "execution_count": 4,
   "metadata": {},
   "outputs": [
    {
     "name": "stdout",
     "output_type": "stream",
     "text": [
      "Attributes are Strength:2 Agility:2 Intelligence:3 Charm:1 Vitality:3 Stamina:3 Spirit:2 \n"
     ]
    }
   ],
   "source": [
    "fittest_player.attributes.print_attributes()"
   ]
  },
  {
   "cell_type": "code",
   "execution_count": 5,
   "metadata": {},
   "outputs": [
    {
     "name": "stdout",
     "output_type": "stream",
     "text": [
      "VICTORY!\n",
      "Player survived for : 50 days.\n"
     ]
    },
    {
     "data": {
      "text/plain": [
       "50"
      ]
     },
     "execution_count": 5,
     "metadata": {},
     "output_type": "execute_result"
    }
   ],
   "source": [
    "G.game.play(fittest_player, 50, probability_game = probability_game, use_multinomial = use_multinomial, printout = True)"
   ]
  }
 ],
 "metadata": {
  "kernelspec": {
   "display_name": "Python 3",
   "language": "python",
   "name": "python3"
  },
  "language_info": {
   "codemirror_mode": {
    "name": "ipython",
    "version": 3
   },
   "file_extension": ".py",
   "mimetype": "text/x-python",
   "name": "python",
   "nbconvert_exporter": "python",
   "pygments_lexer": "ipython3",
   "version": "3.6.4"
  }
 },
 "nbformat": 4,
 "nbformat_minor": 2
}
