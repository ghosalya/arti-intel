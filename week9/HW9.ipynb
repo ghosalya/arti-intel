{
 "cells": [
  {
   "cell_type": "markdown",
   "metadata": {},
   "source": [
    "## 50.021 Artificial Intelligence\n",
    "## Homework 9"
   ]
  },
  {
   "cell_type": "markdown",
   "metadata": {},
   "source": [
    "### Part 1\n",
    "\n",
    "If the weather report says it will rain, then with probability 0.8, Dana brings\n",
    "her umbrella. If the weather report says it won’t rain, then with probability\n",
    "0.3, Dana brings her umbrella. In Singapore, the weather report predicts rain\n",
    "with probability 0.8.\n"
   ]
  },
  {
   "cell_type": "markdown",
   "metadata": {},
   "source": [
    "#### Answer:\n",
    "\n",
    "[**Q1**] Draw a Bayesian network corresponding to this problem, using variables U (for umbrella) and P (for predicted rain).\n",
    "\n",
    "![part1q1](part1q1.jpg)\n",
    "\n",
    "[**Q2**] Compute (by hand) the joint distribution over U and P\n",
    "\n",
    "|                | P = Rain | P = No Rain |\n",
    "|----------------|----------|-------------|\n",
    "| U = Bring      | 0.64     | 0.06        |\n",
    "| U = Dont Bring | 0.16     | 0.14        |\n",
    "\n",
    "[**Q3**] check the code in testcase.py. Compute P(P|U = 1) and P(P|U = 0)\n",
    "using the code.\n",
    "\n",
    "\n"
   ]
  },
  {
   "cell_type": "code",
   "execution_count": 1,
   "metadata": {},
   "outputs": [
    {
     "name": "stdout",
     "output_type": "stream",
     "text": [
      "{'P': True}: 0.8000\n",
      "{'P': False}: 0.2000\n",
      "calculate children\n",
      "{'P': True, 'U': True}: 0.6400\n",
      "{'P': True, 'U': False}: 0.1600\n",
      "{'P': False, 'U': True}: 0.0600\n",
      "{'P': False, 'U': False}: 0.1400\n",
      "\n",
      "Joint Distributuin Check\n",
      "\n",
      "P(P,U) = 0.6400\n",
      "P(P,-U) = 0.1600\n",
      "P(-P,U) = 0.0600\n",
      "P(-P,-U) = 0.1400\n",
      "\n",
      "Computing Required Probabilities\n",
      "\n",
      "-- P(P|U=1) --\n",
      "\n",
      "P(P|U) = 0.9143\n",
      "P(-P|U) = 0.0857\n",
      "\n",
      "-- P(P|U=0) --\n",
      "\n",
      "P(P|-U) = 0.5333\n",
      "P(-P|-U) = 0.4667\n"
     ]
    }
   ],
   "source": [
    "from bayesian_network import BayesianNetwork, compute_p\n",
    "\n",
    "single_prob = ((\"P\", 0.8),)\n",
    "CONDITION = (({\"P\":True}, 0.8),({\"P\":False}, 0.3))\n",
    "conditional_prob =((\"U\", CONDITION),)\n",
    "net = BayesianNetwork(single_prob, conditional_prob)\n",
    "\n",
    "print(\"\\nJoint Distributuin Check\\n\")\n",
    "\n",
    "compute_p(net, event={\"P\":True, \"U\":True})\n",
    "compute_p(net, event={\"P\":True, \"U\":False})\n",
    "compute_p(net, event={\"P\":False, \"U\":True})\n",
    "compute_p(net, event={\"P\":False, \"U\":False})\n",
    "\n",
    "print(\"\\nComputing Required Probabilities\\n\")\n",
    "print(\"-- P(P|U=1) --\\n\")\n",
    "compute_p(net, event={\"P\":True}, given={\"U\":True})\n",
    "compute_p(net, event={\"P\":False}, given={\"U\":True})\n",
    "print(\"\\n-- P(P|U=0) --\\n\")\n",
    "compute_p(net, event={\"P\":True}, given={\"U\":False})\n",
    "compute_p(net, event={\"P\":False}, given={\"U\":False})"
   ]
  },
  {
   "cell_type": "markdown",
   "metadata": {},
   "source": [
    "[**Q4**] Really, you are not so interested in whether rain was predicted, but\n",
    "whether it will actually rain. You study the prediction accuracy of weather\n",
    "predictions, and decide to add a new node, R, to your network, modeling\n",
    "whether it will rain today. How will the model look like as Bayesian\n",
    "network?\n",
    "\n",
    "\n",
    "![part1q4](part1q4.jpg)\n",
    "\n",
    "[**Q5**] for the new network, what is the right formula for P(R = 1|P) and for P(R = 1|U)?\n",
    "\n",
    "$$ P(R=1|P) = \\frac{P(P | R=1) \\cdot P(R = 1)} { P(P=1 | R=1) \\cdot P(R = 1) + P(P=0 | R=1) \\cdot P(R = 1)} $$\n",
    "\n",
    "$$ P(R=1|U) = \\frac{P(U | R=1) \\cdot P(R = 1)} { P(U=1 | R=1) \\cdot P(R = 1) + P(U=0 | R=1) \\cdot P(R = 1)} $$\n",
    "\n",
    "$$ where \\quad P(U|R) = P(U|P) \\cdot P(P|R)$$\n",
    "\n",
    "\n",
    "[**Q6**]  What probabilities do you need? Make up any numbers that you need.\n",
    "Then encode this in the Bayes net code and compute the probability of\n",
    "rain given that Dana brings her umbrella or given that the report says\n",
    "rain or given both observed as evidence.\n",
    "\n",
    "#### Answer:\n",
    "\n",
    "The following will be used:\n",
    "\n",
    "| R = 0 | R = 1 |\n",
    "|-------|-------|\n",
    "| 0.75  | 0.25  |\n",
    "\n",
    "\n",
    "|             | P = 0 | P = 1 |\n",
    "|-------------|-------|-------|\n",
    "| given R = 0 | 0.7   | 0.3   |\n",
    "| given R = 1 | 0.1   | 0.9   |\n",
    "\n",
    "Computing \n",
    "+ P(R| U=1)\n",
    "+ P(R| P=1)\n",
    "+ P(R| U=1, P=1)"
   ]
  },
  {
   "cell_type": "code",
   "execution_count": 2,
   "metadata": {},
   "outputs": [
    {
     "name": "stdout",
     "output_type": "stream",
     "text": [
      "{'R': True}: 0.7500\n",
      "{'R': False}: 0.2500\n",
      "calculate children\n",
      "{'R': True, 'P': True, 'U': True}: 0.5400\n",
      "{'R': True, 'P': True, 'U': False}: 0.1350\n",
      "{'R': True, 'P': False, 'U': True}: 0.0225\n",
      "{'R': True, 'P': False, 'U': False}: 0.0525\n",
      "{'R': False, 'P': True, 'U': True}: 0.0600\n",
      "{'R': False, 'P': True, 'U': False}: 0.0150\n",
      "{'R': False, 'P': False, 'U': True}: 0.0525\n",
      "{'R': False, 'P': False, 'U': False}: 0.1225\n",
      "Computing..\n",
      "P(R|U) = 0.8333\n",
      "P(R|P) = 0.9000\n",
      "P(R|U,P) = 0.9000\n"
     ]
    }
   ],
   "source": [
    "single_prob = ((\"R\", 0.75),)\n",
    "\n",
    "P_CONDITION = (({\"R\":True}, 0.9),({\"R\":False}, 0.3))\n",
    "prediction_prob = (\"P\", P_CONDITION)\n",
    "\n",
    "U_CONDITION = (({\"P\":True}, 0.8),({\"P\":False}, 0.3))\n",
    "umbrella_prob =(\"U\", U_CONDITION)\n",
    "\n",
    "conditional_prob = (prediction_prob, umbrella_prob)\n",
    "\n",
    "net = BayesianNetwork(single_prob, conditional_prob)\n",
    "\n",
    "print(\"Computing..\")\n",
    "compute_p(net, event={\"R\":True}, given={\"U\":True})\n",
    "compute_p(net, event={\"R\":True}, given={\"P\":True})\n",
    "compute_p(net, event={\"R\":True}, given={\"U\":True, \"P\":True})"
   ]
  },
  {
   "cell_type": "markdown",
   "metadata": {},
   "source": [
    "### Part 2\n",
    "\n",
    "Encode your rain model from question from the updated monday lectures in the\n",
    "bayesnet code. Explore explaining away by computing the following.\n",
    "\n",
    "+ P(B = 1|A = 1)\n",
    "+ P(B = 1|A = 1, R = 1) – see what observing an additional evidence, namely the radio report about earth quakes tells you about the probability of having been burgled.\n",
    "+ compute both terms for P(R = 1|E = 0) = 0.0001, andP(R = 1|E = 1) =\n",
    "a number which is not 1.0 as before but still high, compare what happens\n",
    "as you change this number."
   ]
  },
  {
   "cell_type": "code",
   "execution_count": 3,
   "metadata": {},
   "outputs": [
    {
     "name": "stdout",
     "output_type": "stream",
     "text": [
      "{'B': True}: 0.0100\n",
      "{'B': False}: 0.9900\n",
      "{'E': True}: 0.0000\n",
      "{'E': False}: 1.0000\n",
      "calculate children\n"
     ]
    },
    {
     "ename": "KeyError",
     "evalue": "'E'",
     "output_type": "error",
     "traceback": [
      "\u001b[1;31m---------------------------------------------------------------------------\u001b[0m",
      "\u001b[1;31mKeyError\u001b[0m                                  Traceback (most recent call last)",
      "\u001b[1;32m<ipython-input-3-8003afc683d9>\u001b[0m in \u001b[0;36m<module>\u001b[1;34m()\u001b[0m\n\u001b[0;32m     12\u001b[0m \u001b[0mconditional_prob\u001b[0m \u001b[1;33m=\u001b[0m \u001b[1;33m(\u001b[0m\u001b[0mr_prob\u001b[0m\u001b[1;33m,\u001b[0m \u001b[0ma_prob\u001b[0m\u001b[1;33m)\u001b[0m\u001b[1;33m\u001b[0m\u001b[0m\n\u001b[0;32m     13\u001b[0m \u001b[1;33m\u001b[0m\u001b[0m\n\u001b[1;32m---> 14\u001b[1;33m \u001b[0mnet\u001b[0m \u001b[1;33m=\u001b[0m \u001b[0mBayesianNetwork\u001b[0m\u001b[1;33m(\u001b[0m\u001b[0msingle_prob\u001b[0m\u001b[1;33m,\u001b[0m \u001b[0mconditional_prob\u001b[0m\u001b[1;33m)\u001b[0m\u001b[1;33m\u001b[0m\u001b[0m\n\u001b[0m",
      "\u001b[1;32m~\\arti-intel\\week9\\bayesian_network.py\u001b[0m in \u001b[0;36m__init__\u001b[1;34m(self, single_event_probability, conditional_event_probability)\u001b[0m\n\u001b[0;32m     66\u001b[0m                 \u001b[1;32mfor\u001b[0m \u001b[0mgiven_name\u001b[0m\u001b[1;33m,\u001b[0m \u001b[0mprob_given\u001b[0m \u001b[1;32min\u001b[0m \u001b[0mprobabilities\u001b[0m\u001b[1;33m:\u001b[0m\u001b[1;33m\u001b[0m\u001b[0m\n\u001b[0;32m     67\u001b[0m                     \u001b[1;31m# print(\"   \", given_name, prob_given)\u001b[0m\u001b[1;33m\u001b[0m\u001b[1;33m\u001b[0m\u001b[0m\n\u001b[1;32m---> 68\u001b[1;33m                     \u001b[1;32mif\u001b[0m \u001b[0mnode\u001b[0m\u001b[1;33m.\u001b[0m\u001b[0mcheck_event_value\u001b[0m\u001b[1;33m(\u001b[0m\u001b[0mgiven_name\u001b[0m\u001b[1;33m)\u001b[0m\u001b[1;33m:\u001b[0m\u001b[1;33m\u001b[0m\u001b[0m\n\u001b[0m\u001b[0;32m     69\u001b[0m                         \u001b[0mp\u001b[0m \u001b[1;33m=\u001b[0m \u001b[0mprob_given\u001b[0m\u001b[1;33m\u001b[0m\u001b[0m\n\u001b[0;32m     70\u001b[0m                 \u001b[0mtrue_case\u001b[0m \u001b[1;33m=\u001b[0m \u001b[0mdict\u001b[0m\u001b[1;33m(\u001b[0m\u001b[0mnode\u001b[0m\u001b[1;33m.\u001b[0m\u001b[0mconditions\u001b[0m\u001b[1;33m)\u001b[0m\u001b[1;33m\u001b[0m\u001b[0m\n",
      "\u001b[1;32m~\\arti-intel\\week9\\bayesian_network.py\u001b[0m in \u001b[0;36mcheck_event_value\u001b[1;34m(self, input)\u001b[0m\n\u001b[0;32m     13\u001b[0m     \u001b[1;32mdef\u001b[0m \u001b[0mcheck_event_value\u001b[0m\u001b[1;33m(\u001b[0m\u001b[0mself\u001b[0m\u001b[1;33m,\u001b[0m \u001b[0minput\u001b[0m\u001b[1;33m)\u001b[0m\u001b[1;33m:\u001b[0m\u001b[1;33m\u001b[0m\u001b[0m\n\u001b[0;32m     14\u001b[0m         \u001b[1;32mfor\u001b[0m \u001b[0mevent\u001b[0m\u001b[1;33m,\u001b[0m \u001b[0mevent_value\u001b[0m \u001b[1;32min\u001b[0m \u001b[0minput\u001b[0m\u001b[1;33m.\u001b[0m\u001b[0mitems\u001b[0m\u001b[1;33m(\u001b[0m\u001b[1;33m)\u001b[0m\u001b[1;33m:\u001b[0m\u001b[1;33m\u001b[0m\u001b[0m\n\u001b[1;32m---> 15\u001b[1;33m             \u001b[1;32mif\u001b[0m \u001b[0mself\u001b[0m\u001b[1;33m.\u001b[0m\u001b[0mconditions\u001b[0m\u001b[1;33m[\u001b[0m\u001b[0mevent\u001b[0m\u001b[1;33m]\u001b[0m \u001b[1;33m!=\u001b[0m \u001b[0mevent_value\u001b[0m\u001b[1;33m:\u001b[0m\u001b[1;33m\u001b[0m\u001b[0m\n\u001b[0m\u001b[0;32m     16\u001b[0m                 \u001b[1;32mreturn\u001b[0m \u001b[1;32mFalse\u001b[0m\u001b[1;33m\u001b[0m\u001b[0m\n\u001b[0;32m     17\u001b[0m         \u001b[1;32mreturn\u001b[0m \u001b[1;32mTrue\u001b[0m\u001b[1;33m\u001b[0m\u001b[0m\n",
      "\u001b[1;31mKeyError\u001b[0m: 'E'"
     ]
    }
   ],
   "source": [
    "single_prob = ((\"B\", 0.01), (\"E\", 1e-6),)\n",
    "\n",
    "R_CONDITION = (({\"E\":True}, 1),({\"E\":False}, 0))\n",
    "r_prob = (\"R\", R_CONDITION)\n",
    "\n",
    "A_CONDITION = (({\"E\":True, \"B\":True}, 0.9999),\n",
    "               ({\"E\":True, \"B\":False}, 0.99),\n",
    "               ({\"E\":False, \"B\":True}, 0.99),\n",
    "               ({\"E\":False, \"B\":False}, 0.0001))\n",
    "a_prob = (\"A\", A_CONDITION)\n",
    "\n",
    "conditional_prob = (r_prob, a_prob)\n",
    "\n",
    "net = BayesianNetwork(single_prob, conditional_prob)"
   ]
  },
  {
   "cell_type": "code",
   "execution_count": null,
   "metadata": {},
   "outputs": [],
   "source": []
  }
 ],
 "metadata": {
  "kernelspec": {
   "display_name": "Python 3",
   "language": "python",
   "name": "python3"
  },
  "language_info": {
   "codemirror_mode": {
    "name": "ipython",
    "version": 3
   },
   "file_extension": ".py",
   "mimetype": "text/x-python",
   "name": "python",
   "nbconvert_exporter": "python",
   "pygments_lexer": "ipython3",
   "version": "3.6.4"
  }
 },
 "nbformat": 4,
 "nbformat_minor": 2
}
