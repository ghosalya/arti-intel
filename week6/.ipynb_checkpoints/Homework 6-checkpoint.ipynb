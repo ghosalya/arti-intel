{
 "cells": [
  {
   "cell_type": "markdown",
   "metadata": {},
   "source": [
    "## Theory Part"
   ]
  },
  {
   "cell_type": "markdown",
   "metadata": {},
   "source": [
    "[**Q1**] _The following is the AdaGrad algorithm for weight update._\n",
    "\n",
    "$$ cache_i = cache_i + (∇_{w_i}L)^2 $$\n",
    "\n",
    "$$ w_i = w_i - \\frac{η}{\\sqrt{cache_i} + \\epsilon}∇_{w_i}L $$\n",
    "\n",
    "_where $w_i$ is the weight to be updated, $∇_{w_i}L$ is the gradient of the loss w.r.t $w_i$ , $\\epsilon$ is a hyperparemeter between $10^{−8}$ and $10^{−4}$ and η is a hyperparameter similar to step size in SGD. List one difference between AdaGrad and SGD in terms of step size and **explain** what effects you expect from this difference._\n",
    "\n",
    "**ANSWER: **\n",
    "\n",
    "SGD use constant step size, which suffers from descending too slow in a flat, non-minumum areas and descending too fast in the steeper area. \n",
    "\n",
    "$$ w_i = w_i - η∇_{w_i}L $$\n",
    "\n",
    "AdaGrad attempts to mitigate this by introducing a _cache_; in this case it is the sum of the previous gradients squared. By dividing the gradient descent by the square root of the cache, this means that the gradient will descend faster when the cache is small, and slower when the cache is big.\n",
    "\n",
    "Small cache means that the gradient has been small for the past iterations, meaning that the model is currently at a \"flat\" area of the graph, and it should move faster as everything around the area is generally going to be flat, so that the model can move to an area that actually has a minimum. Big cache means that the gradient has been big for the past iterations, implying a \"steep\" area in which the model should descend more slowly on, in order to not miss the minimum point. To this end, AdaGrad will perform better than SGD in terms of both speed and performance."
   ]
  },
  {
   "cell_type": "markdown",
   "metadata": {},
   "source": [
    "[**Q2**] The following are the defining equations for an LSTM cell,\n",
    "\n",
    "$$ i_t = \\sigma(W^i_{x_t} + U^i h_{t-1}) $$\n",
    "$$ f_t = \\sigma(W^f_{x_t} + U^f h_{t-1}) $$\n",
    "$$ o_t = \\sigma(W^o_{x_t} + U^o h_{t-1}) $$\n",
    "$$ \\hat{c_t} = tanh(W^c_{x_t} + U^c h_{t-1}) $$\n",
    "$$ c = f_t ◦ c_{t-1} + i_t ◦ \\hat{c_t} $$\n",
    "$$ h_t = o_t ◦ tanh(c_t) $$\n",
    "\n",
    "The symbol $◦$ denotes element-wise multiplication and $\\sigma(x) = \\frac{1}{1+e^{−x}}$ is the sigmoid function. Answer True/False to the following questions and give not more than 2 sentences explanation. \n",
    "1. If $x_t = 0$ vector then $h_t = h_{t−1}$. \n",
    "2. If $f_t$ is very small or zero, then the error will not be back-propagated to earlier time steps.\n",
    "3. The entries of $f_t,i_t,o_t$ are non-negative.\n",
    "4. $f_t,i_t,o_t$ can be seen as probability distributions, which means that their entries are nonnegative and their entries sum to 1.\n",
    "\n",
    "**ANSWER:**\n",
    "\n",
    "1. False. The cell forward pass is still affected by $U^* \\cdot h_{t-1}$ (where $* \\epsilon \\{i, f, o\\}$).\n",
    "2. False. Backpropagation will still occur according to $i_t$ and $o_t$.\n",
    "3. True. As $i_t, f_t, o_t$ is the output of sigmoid functions, it will only lie in (0, 1) as output. \n",
    "4. False. While the entries are non-negative, they graph does not sum up to 1. As $\\sigma(\\infty) = 1$, it is impossible for the sum of the graph to be equal to 1. \n"
   ]
  },
  {
   "cell_type": "markdown",
   "metadata": {},
   "source": [
    "[**Q3**]  The deﬁning equations for a GRU cell are, \n",
    "\n",
    "$$ z_t = \\sigma(W^z x_t + u^z h_{t-1}) $$\n",
    "$$ r_t = \\sigma(W^r x_t + u^r h_{t-1}) $$\n",
    "$$ \\hat h_t = tanh(Wx_t + r_t ◦ Uh_{t-1}) $$\n",
    "$$ h_t = z_t ◦ h_{t-1} + (1 - z_t) ◦ \\hat h_t $$\n",
    "\n",
    "1. Draw a diagram of this GRU cell.\n",
    "2. Assume $h_t$ and $x_t$ are column vectors, with dimensions $d_h$ and $d_x$ respectively. What are the dimensions (rows × columns) of the weight matrices $W^z,W^r,W,U^z,U^r,$ and $U$? \n",
    "3. Like LSTM cells, GRU cells can tackle vanishing or exploding gradient problem too. By taking a look at the formula for LSTM in Q2, what is the main advantage of using GRU cells over LSTMs for some problems? Give an answer it at most 5 sentences. _Hint: We expect a qualitative answer (deep math proofs are not required) that comes with an explanation of the answer._\n",
    "\n",
    "**ANSWERS**\n",
    "\n",
    "1. GRU Cell diagram is as follows (drawn with [draw.io](http://www.draw.io))\n",
    "![gru-cell](grucell.jpg)\n",
    "2. Corresponding dimensions:\n",
    "$$ from \\space their \\space matrix \\space multiplications: $$\n",
    "$$ d_{W}^z = a × d_x, \\quad d_{U}^z = a × d_h, \\quad d_{z} = a × 1$$\n",
    "$$ d_{W}^r = b × d_x, \\quad d_{U}^r = b × d_h, \\quad d_{r} = b × 1$$\n",
    "$$ d_{U} = c × d_h $$\n",
    "$$ $$\n",
    "$$ from \\space their \\space elementwise \\space multiplications: $$\n",
    "$$ d_{z} = d_h × 1 , \\quad a = d_h$$\n",
    "$$ d_{r} = d_h × 1 , \\quad b = d_h$$\n",
    "$$ c = d_h $$\n",
    "$$ $$\n",
    "$$ therefore: $$\n",
    "$$ d_{W}^z = d_h × d_x, \\quad d_{U}^z = d_h × d_h$$\n",
    "$$ d_{W}^r = d_h × d_x, \\quad d_{U}^r = d_h × d_h$$\n",
    "$$ d_{U} = d_h × d_h $$\n",
    "$$ $$\n",
    "3. The main advantage is that GRU has 2 gates instead of 3, meaning that the parameters required to train in GRU is less than that of LSTM; assuming they perform with the same accuracy, GRU is more computationally efficient."
   ]
  },
  {
   "cell_type": "markdown",
   "metadata": {},
   "source": [
    "## Coding Part"
   ]
  },
  {
   "cell_type": "code",
   "execution_count": 1,
   "metadata": {},
   "outputs": [
    {
     "name": "stdout",
     "output_type": "stream",
     "text": [
      "KIRK: What is it? \n",
      "\n",
      "PIKE: There's no indication of problems down there, but let's not take chances. \n",
      "\n",
      "VINA: I think it's time to show the Captain our secret. \n",
      "\n",
      "KIRK: Spock! \n",
      "\n",
      "SPOCK: Spock to transporter room. \n",
      "\n"
     ]
    }
   ],
   "source": [
    "from hw6_code import *\n",
    "\n",
    "star_filter = ['NEXTEPISODE']\n",
    "dataset = MovieScriptDataset('../dataset/startrek/star_trek_transcripts_all_episodes_f.csv',\n",
    "                             filterwords=star_filter)\n",
    "train_data, test_data = dataset.split_train_test()\n",
    "print(train_data.line_list[-1], '\\n')\n",
    "print(train_data.line_list[-3], '\\n')\n",
    "print(train_data.line_list[-5], '\\n')\n",
    "print(train_data.line_list[-10], '\\n')\n",
    "print(train_data.line_list[-50], '\\n')"
   ]
  },
  {
   "cell_type": "code",
   "execution_count": 2,
   "metadata": {},
   "outputs": [],
   "source": [
    "lstm_mod = CoveredLSTM(len(charspace), 200, 3, len(charspace)).cuda()"
   ]
  },
  {
   "cell_type": "code",
   "execution_count": 3,
   "metadata": {},
   "outputs": [
    {
     "name": "stdout",
     "output_type": "stream",
     "text": [
      "training\n",
      "EPOCH 0\n",
      "      >> Epoch loss 2.38817 accuracy 0.220                    in 169.9061s\n",
      "      >> Epoch loss 0.82465 accuracy 0.332                    in 36.5304s\n",
      "      sample line: SCOTT: It's working, sir.\n",
      "      sample output: SPCC:: I  t toue ng  tote\n",
      "EPOCH 1\n",
      "      >> Epoch loss 1.67508 accuracy 0.408                    in 169.8923s\n",
      "      >> Epoch loss 0.61761 accuracy 0.480                    in 37.3077s\n",
      "      sample line: KIRK : Clear passageways immediately. The Ambassador will be escorted to his quarters at once.\n",
      "      sample output: KIRK:: Saatt irrtere  n  tnpitinte.e \n",
      "Iheycnpiseel r oetl te antett d to tes tuett d .on ander\n",
      "EPOCH 2\n",
      "      >> Epoch loss 1.33498 accuracy 0.516                    in 170.1230s\n",
      "      >> Epoch loss 0.52836 accuracy 0.548                    in 36.6199s\n",
      "      sample line: ZARABETH: It was not enough that he execute my kinsmen. Zor Kahn determined to destroy our entire family. He used the atavachron to send us places no one could ever find us.\n",
      "      sample output: ZANA:ER:: I  ias tot tntugh thet ia inprtsidte cnld.ent\n",
      "Ieweday  teaar ang. th tettroy tnr pntela tocini \n",
      "Ie'cne  thercntreyt yu th tee itn arane  toton  oonrd bnen tond tn \n",
      "EPOCH 3\n",
      "      >> Epoch loss 1.18458 accuracy 0.564                    in 170.6265s\n",
      "      >> Epoch loss 0.48539 accuracy 0.578                    in 36.7791s\n",
      "      sample line: ANAN: We have been at war for five hundred years.\n",
      "      sample output: ANLN: Ie cave teen tntterpcor tone temdred toars.\n",
      "EPOCH 4\n",
      "      >> Epoch loss 1.10320 accuracy 0.590                    in 172.8597s\n",
      "      >> Epoch loss 0.46330 accuracy 0.593                    in 36.7157s\n",
      "      sample line: MCCOY: Yes. Yes, in a way it is. The human brain controls the individual's functions.\n",
      "      sample output: MCCOY: Ies,\n",
      "Ios, st t cay tn ws \n",
      "Shercaman teiin tomtrol  aoercntecetetl s tolntion..\n",
      "EPOCH 5\n",
      "      >> Epoch loss 1.05065 accuracy 0.606                    in 171.1553s\n",
      "      >> Epoch loss 0.44813 accuracy 0.606                    in 36.7168s\n",
      "      sample line: CHEKOV: The new headings will be plotted in a minute, sir.\n",
      "      sample output: CHEKOV: Iheycex caading  aell be arateid tn tncanute. Cir.\n",
      "EPOCH 6\n",
      "      >> Epoch loss 1.01269 accuracy 0.618                    in 169.8611s\n",
      "      >> Epoch loss 0.43816 accuracy 0.614                    in 36.3688s\n",
      "      sample line: CHRISTOPHER: I take it that a lady computer is not routine.\n",
      "      sample output: CHEISTOPHER: I dhle tt toet tncini,oonputer rn aot teoning.\n",
      "EPOCH 7\n",
      "      >> Epoch loss 0.98426 accuracy 0.627                    in 172.1203s\n",
      "      >> Epoch loss 0.42868 accuracy 0.622                    in 40.9652s\n",
      "      sample line: KIRK: It was not deliberate, I assure you.\n",
      "      sample output: KIRK: I  was aot teaigerated C wmsure you \n",
      "EPOCH 8\n",
      "      >> Epoch loss 0.96139 accuracy 0.634                    in 171.1068s\n",
      "      >> Epoch loss 0.42056 accuracy 0.628                    in 37.2672s\n",
      "      sample line: KIRK: to you, friend. Joy and tranquillity.\n",
      "      sample output: KIRK: Ih aour tooendl\n",
      "Iul tnd thynsuillisy \n",
      "EPOCH 9\n",
      "      >> Epoch loss 0.94235 accuracy 0.641                    in 171.5010s\n",
      "      >> Epoch loss 0.41566 accuracy 0.632                    in 37.3267s\n",
      "      sample line: LAZARUS: Both universes, Captain. Yours and mine.\n",
      "      sample output: LAZARUS: Iunh tniverse.. taptain.\n",
      "Iou  etnd tand.\n",
      "EPOCH 10\n",
      "      >> Epoch loss 0.92621 accuracy 0.646                    in 171.5777s\n",
      "      >> Epoch loss 0.41269 accuracy 0.634                    in 41.6226s\n",
      "      sample line: LOSIRA: That is not important. You are Lieutenant Sulu. You were born on the planet Earth. You're helmsman for the Enterprise.\n",
      "      sample output: LAKIRA: Ihet is aot tnportant.\n",
      "Iou wre aisutenant Cclu.\n",
      "Tou aire tern tf the clanet.anrth  Iou ve aerpe an.irr the cnterprise.\n",
      "EPOCH 11\n",
      "      >> Epoch loss 0.91191 accuracy 0.650                    in 171.2340s\n",
      "      >> Epoch loss 0.41150 accuracy 0.635                    in 37.1998s\n",
      "      sample line: MCCOY: How?\n",
      "      sample output: MCCOY: Iew \n",
      "EPOCH 12\n",
      "      >> Epoch loss 0.89950 accuracy 0.654                    in 171.4015s\n",
      "      >> Epoch loss 0.40863 accuracy 0.638                    in 41.4958s\n",
      "      sample line: SPOCK: We're being held in place, Captain, apparently from that solar system.\n",
      "      sample output: SPOCK: Ie re geing deld tn teane. aaptain. bnprrently toom thet thmar dystems\n",
      "EPOCH 13\n",
      "      >> Epoch loss 0.88785 accuracy 0.658                    in 172.0734s\n",
      "      >> Epoch loss 0.40693 accuracy 0.640                    in 42.3164s\n",
      "      sample line: CLAUDIUS: Prepare food for our friends. They've come from a great distance. A great distance indeed. So, this is a Vulcan. Interesting. From what I've heard, I wish I had fifty of you for the arena.\n",
      "      sample output: CHAUDIUS: Irepare torl.tor aur priends.\n",
      "Iher re gome from tncreat destrnce  Incaeat destrnce fn eed.\n",
      "Ihm thes is tnfulcan  I  eresting. Iiom that w me gaard  C walh t cav tonte tf touraor ahe cnea' \n",
      "EPOCH 14\n",
      "      >> Epoch loss 0.87731 accuracy 0.661                    in 175.5041s\n",
      "      >> Epoch loss 0.40540 accuracy 0.642                    in 41.9029s\n",
      "      sample line: KIRK: You have a talent for understatement, Lieutenant. Without full crystal power, our orbit will begin to decay in ten hours. Reamplify immediately.\n",
      "      sample output: KIRK: Iou mave a frpk t aou tsier tonement  bieutenant \n",
      "Ielh ut trll poestalsioier  srr pwdit aall be in to sesey tn thn maur..\n",
      "Iemd leci aspediately \n"
     ]
    }
   ],
   "source": [
    "print(\"training\")\n",
    "trained_model, train_loss_acc, test_loss_acc = train(train_data, test_data, lstm_mod, resume_from=0, save_model_every=5,\n",
    "                                                     learnrate=2.5e-1, batch_size=20, sample_every=5000, epoch=15)"
   ]
  },
  {
   "cell_type": "code",
   "execution_count": 4,
   "metadata": {},
   "outputs": [
    {
     "data": {
      "image/png": "[encoded data removed]",
      "text/plain": [
       "<matplotlib.figure.Figure at 0x2105c731f60>"
      ]
     },
     "metadata": {},
     "output_type": "display_data"
    }
   ],
   "source": [
    "plot_over_epoch(train_loss_acc, test_loss_acc)"
   ]
  },
  {
   "cell_type": "markdown",
   "metadata": {},
   "source": [
    "purple: train loss\n",
    "\n",
    "red: test loss\n",
    "\n",
    "dark blue: train accuracy\n",
    "\n",
    "light blue: test accuracy"
   ]
  },
  {
   "cell_type": "code",
   "execution_count": 5,
   "metadata": {},
   "outputs": [
    {
     "name": "stdout",
     "output_type": "stream",
     "text": [
      "GENERATED: ODONA: I would do it.\n",
      "GENERATED: UHURA: Sensors programmed it. I was arrive and move.\n",
      "GENERATED: BROWN: I was an indee of the planet surface control.\n",
      "GENERATED: NOMAD: So the crew work and engineering course.\n",
      "GENERATED: JARIS: I said I have to be increasing to attend the orcinition. It was an answer. Now. There were an engines in the computer control. For the computer read in the chances. There's no survivors to be a worse.\n",
      "GENERATED: ELAAN: I wondered the captain. There will be it being we there.\n",
      "GENERATED: APRIL: What are you doing?\n",
      "GENERATED: EM3GREEN: I was something to say in the ship.\n",
      "GENERATED: KIRK: You have a solad has had to be taken on the ship. They were not completely their action of this planet.\n",
      "GENERATED: LAZARUS: But the ship is true, Captain.\n",
      "GENERATED: TAMAR: They were here.\n",
      "GENERATED: PIKE: They didn't say there's a big blood control of the planet of the basic controls. All centuries?\n",
      "GENERATED: LEILA: I don't know. He's gone a trained to another computers and the same things to keep one of the same way we can help you. I know what he was something to say they mean. I was the transporter room.\n",
      "GENERATED: GARTH: At life for anything to be a destroyed by the people of the same transporter room.\n",
      "GENERATED: HODIN: I was an animal control pants of some mind is permitted. I can't understand this interference with their original condition.\n",
      "GENERATED: PIKE: Once it is, but we're trying to save the same and officer. I was an instructions are an minor entitle way. I would have an appear to be a few minutes to see.\n",
      "GENERATED: KIRK: That was an order to be a reason for anything we can keep the ship. Just as it in the right of a thought destroyed the new, but the ship and the same we were going to see the captain.\n",
      "GENERATED: PIKE: There's no longer crystals are alive.\n",
      "GENERATED: WALLACE: Then one seruis an order to say sit and death. They can starned them in the same we'll die.\n",
      "GENERATED: WALLACE: But why do you want to wait to do it?\n",
      "GENERATED: KIRK: There will be all right. We're going to try to stay here.\n",
      "GENERATED: UHURA: I am an attack with mine. Detail there and the transporter control report to the computer.\n",
      "GENERATED: TRELANE: Well, what's the only take him to destroy your ship.\n",
      "GENERATED: FLINT: The present is commanding cannot answer. What were there?  I am a good and they're still as great dead. Let me position the death, we were say they were to speak of it. Are you sure you can tell you here?\n",
      "GENERATED: KIRK: Do you realise the computer is reading in this information were another distress call for the transporter room. Computer beams being disturbing anything.\n",
      "GENERATED: ISAK: There were anything to say in a back six years.\n",
      "GENERATED: CHEKOV: There's a trick of a reasoning an order to say there in a primitive report to be an action. There is no radio was serious to destroy your crew down there.\n",
      "GENERATED: FELLINI: They were strong, sir.\n",
      "GENERATED: ELAAN: We're trying to do. We were trying to get into the creature.\n",
      "GENERATED: ELEEN: I won't travellate a whole constructions and an ancestors and weak well.\n",
      "GENERATED: ELAAN: I am ready.\n",
      "GENERATED: KIRK: Do you know?\n",
      "GENERATED: DAYSTROM: That did they have any saw the communict we have to leave the word and the ship on Earth answer.\n",
      "GENERATED: TYREE: No. Captain, the same captain is something wrong.\n",
      "GENERATED: SPOCK: It is a fight.\n",
      "GENERATED: WALLACE: They are there to be reading in another mind and control the storage to have any of our own destroying confirmation. The moment that this is the same thing they were men.\n",
      "GENERATED: VINA: There's an ancient of the transporter room sounds and the sensors field.\n",
      "GENERATED: BOMA: Here we were traces of the way they can tell them to be an order to be an ancient of an ancient territor readings. I was coming on an ancestors. I want to know so.\n",
      "GENERATED: CHEKOV: I am the corridor and remain of an explanation.\n",
      "GENERATED: DAYSTROM: What's the command is the same answers in the galaxy to protect the galaxy and a repairs.\n",
      "GENERATED: DARAS: I have to a fact that they were too late.\n",
      "GENERATED: EVE: You can't find out with you.\n",
      "GENERATED: HANSON: I am sorry. I know what he was been saved by the same we're the decision. Commodore Spock and you leave the same two and or a moment.\n",
      "GENERATED: UHURA: Captain, my first officer. I said you were as a little dead. I want to come to me. I want to know what it is, but it is right to see you.\n",
      "GENERATED: HANSON: Yes, sir.\n",
      "GENERATED: T'PAU: There is a pattern is the answer.\n",
      "GENERATED: MCCOY: There is an engineering. She was trying.\n",
      "GENERATED: DAYSTROM: She's a sense.\n",
      "GENERATED: T'PAU: There is another dead has considered a bearing officer, there is a balloon computer.\n",
      "GENERATED: SCOTT: All right. There is an order. I would like to come aboard the Mister Spock.\n"
     ]
    }
   ],
   "source": [
    "# sampling 50 sentences\n",
    "for i in range(50):\n",
    "    print('GENERATED:', trained_model.sample(max_length=500))"
   ]
  },
  {
   "cell_type": "code",
   "execution_count": null,
   "metadata": {},
   "outputs": [],
   "source": []
  }
 ],
 "metadata": {
  "kernelspec": {
   "display_name": "Python 3",
   "language": "python",
   "name": "python3"
  },
  "language_info": {
   "codemirror_mode": {
    "name": "ipython",
    "version": 3
   },
   "file_extension": ".py",
   "mimetype": "text/x-python",
   "name": "python",
   "nbconvert_exporter": "python",
   "pygments_lexer": "ipython3",
   "version": "3.6.4"
  }
 },
 "nbformat": 4,
 "nbformat_minor": 2
}
