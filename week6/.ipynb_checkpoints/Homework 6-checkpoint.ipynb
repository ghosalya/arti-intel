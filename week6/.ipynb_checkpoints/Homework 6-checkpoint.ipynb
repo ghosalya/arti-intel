{
 "cells": [
  {
   "cell_type": "markdown",
   "metadata": {},
   "source": [
    "## Theory Part"
   ]
  },
  {
   "cell_type": "markdown",
   "metadata": {},
   "source": [
    "[**Q1**] _The following is the AdaGrad algorithm for weight update._\n",
    "\n",
    "$$ cache_i = cache_i + (∇_{w_i}L)^2 $$\n",
    "\n",
    "$$ w_i = w_i - \\frac{η}{\\sqrt{cache_i} + \\epsilon}∇_{w_i}L $$\n",
    "\n",
    "_where $w_i$ is the weight to be updated, $∇_{w_i}L$ is the gradient of the loss w.r.t $w_i$ , $\\epsilon$ is a hyperparemeter between $10^{−8}$ and $10^{−4}$ and η is a hyperparameter similar to step size in SGD. List one difference between AdaGrad and SGD in terms of step size and **explain** what effects you expect from this difference._\n",
    "\n",
    "**ANSWER: **\n",
    "\n",
    "SGD use constant step size, which suffers from descending too slow in a flat, non-minumum areas and descending too fast in the steeper area. \n",
    "\n",
    "$$ w_i = w_i - η∇_{w_i}L $$\n",
    "\n",
    "AdaGrad attempts to mitigate this by introducing a _cache_; in this case it is the sum of the previous gradients squared. By dividing the gradient descent by the square root of the cache, this means that the gradient will descend faster when the cache is small, and slower when the cache is big.\n",
    "\n",
    "Small cache means that the gradient has been small for the past iterations, meaning that the model is currently at a \"flat\" area of the graph, and it should move faster as everything around the area is generally going to be flat, so that the model can move to an area that actually has a minimum. Big cache means that the gradient has been big for the past iterations, implying a \"steep\" area in which the model should descend more slowly on, in order to not miss the minimum point. To this end, AdaGrad will perform better than SGD in terms of both speed and performance."
   ]
  },
  {
   "cell_type": "markdown",
   "metadata": {},
   "source": [
    "[**Q2**] The following are the defining equations for an LSTM cell,\n",
    "\n",
    "$$ i_t = \\sigma(W^i_{x_t} + U^i h_{t-1}) $$\n",
    "$$ f_t = \\sigma(W^f_{x_t} + U^f h_{t-1}) $$\n",
    "$$ o_t = \\sigma(W^o_{x_t} + U^o h_{t-1}) $$\n",
    "$$ \\hat{c_t} = tanh(W^c_{x_t} + U^c h_{t-1}) $$\n",
    "$$ c = f_t ◦ c_{t-1} + i_t ◦ \\hat{c_t} $$\n",
    "$$ h_t = o_t ◦ tanh(c_t) $$\n",
    "\n",
    "The symbol $◦$ denotes element-wise multiplication and $\\sigma(x) = \\frac{1}{1+e^{−x}}$ is the sigmoid function. Answer True/False to the following questions and give not more than 2 sentences explanation. \n",
    "1. If $x_t = 0$ vector then $h_t = h_{t−1}$. \n",
    "2. If $f_t$ is very small or zero, then the error will not be back-propagated to earlier time steps.\n",
    "3. The entries of $f_t,i_t,o_t$ are non-negative.\n",
    "4. $f_t,i_t,o_t$ can be seen as probability distributions, which means that their entries are nonnegative and their entries sum to 1.\n",
    "\n",
    "**ANSWER:**\n",
    "\n",
    "1. False. The cell forward pass is still affected by $U^* \\cdot h_{t-1}$ (where $* \\epsilon \\{i, f, o\\}$).\n",
    "2. False. Backpropagation will still occur according to $i_t$ and $o_t$.\n",
    "3. True. As $i_t, f_t, o_t$ is the output of sigmoid functions, it will only lie in (0, 1) as output. \n",
    "4. False. While the entries are non-negative, they graph does not sum up to 1. As $\\sigma(\\infty) = 1$, it is impossible for the sum of the graph to be equal to 1. \n"
   ]
  },
  {
   "cell_type": "markdown",
   "metadata": {},
   "source": [
    "[**Q3**]  The deﬁning equations for a GRU cell are, \n",
    "\n",
    "$$ z_t = \\sigma(W^z x_t + u^z h_{t-1}) $$\n",
    "$$ r_t = \\sigma(W^r x_t + u^r h_{t-1}) $$\n",
    "$$ \\hat h_t = tanh(Wx_t + r_t ◦ Uh_{t-1}) $$\n",
    "$$ h_t = z_t ◦ h_{t-1} + (1 - z_t) ◦ \\hat h_t $$\n",
    "\n",
    "1. Draw a diagram of this GRU cell.\n",
    "2. Assume $h_t$ and $x_t$ are column vectors, with dimensions $d_h$ and $d_x$ respectively. What are the dimensions (rows × columns) of the weight matrices $W^z,W^r,W,U^z,U^r,$ and $U$? \n",
    "3. Like LSTM cells, GRU cells can tackle vanishing or exploding gradient problem too. By taking a look at the formula for LSTM in Q2, what is the main advantage of using GRU cells over LSTMs for some problems? Give an answer it at most 5 sentences. _Hint: We expect a qualitative answer (deep math proofs are not required) that comes with an explanation of the answer._\n",
    "\n",
    "**ANSWERS**\n",
    "\n",
    "1. GRU Cell diagram is as follows (drawn with [draw.io](http://www.draw.io))\n",
    "![gru-cell](grucell.jpg)\n",
    "2. Corresponding dimensions:\n",
    "$$ from \\space their \\space matrix \\space multiplications: $$\n",
    "$$ d_{W}^z = a × d_x, \\quad d_{U}^z = a × d_h, \\quad d_{z} = a × 1$$\n",
    "$$ d_{W}^r = b × d_x, \\quad d_{U}^r = b × d_h, \\quad d_{r} = b × 1$$\n",
    "$$ d_{U} = c × d_h $$\n",
    "$$ $$\n",
    "$$ from \\space their \\space elementwise \\space multiplications: $$\n",
    "$$ d_{z} = d_h × 1 , \\quad a = d_h$$\n",
    "$$ d_{r} = d_h × 1 , \\quad b = d_h$$\n",
    "$$ c = d_h $$\n",
    "$$ $$\n",
    "$$ therefore: $$\n",
    "$$ d_{W}^z = d_h × d_x, \\quad d_{U}^z = d_h × d_h$$\n",
    "$$ d_{W}^r = d_h × d_x, \\quad d_{U}^r = d_h × d_h$$\n",
    "$$ d_{U} = d_h × d_h $$\n",
    "$$ $$\n",
    "3. The main advantage is that GRU has 2 gates instead of 3, meaning that the parameters required to train in GRU is less than that of LSTM; assuming they perform with the same accuracy, GRU is more computationally efficient."
   ]
  },
  {
   "cell_type": "markdown",
   "metadata": {},
   "source": [
    "## Coding Part"
   ]
  },
  {
   "cell_type": "code",
   "execution_count": 1,
   "metadata": {},
   "outputs": [
    {
     "name": "stdout",
     "output_type": "stream",
     "text": [
      "MCCOY: The ryetalyn., And over by the far wall is a covered figure with the label  Rayna 16. Kirk takes a look at it. It is a bald version of Rayna. They look further and see others. Rayna 14, Rayna 15. \n",
      "\n",
      "SPOCK: I am quite ready now, Doctor. \n",
      "\n",
      "KIRK: I can't? \n",
      "\n",
      "CAROLYN: Oh, it's beautiful. \n",
      "\n",
      "SPOCK: I had hoped I was wrong. \n",
      "\n"
     ]
    }
   ],
   "source": [
    "from hw6_code import *\n",
    "\n",
    "star_filter = ['NEXTEPISODE']\n",
    "dataset = MovieScriptDataset('../dataset/startrek/star_trek_transcripts_all_episodes_f.csv',\n",
    "                             filterwords=star_filter)\n",
    "train_data, test_data = dataset.split_train_test()\n",
    "print(train_data.line_list[-1], '\\n')\n",
    "print(train_data.line_list[-3], '\\n')\n",
    "print(train_data.line_list[-5], '\\n')\n",
    "print(train_data.line_list[-10], '\\n')\n",
    "print(train_data.line_list[-50], '\\n')"
   ]
  },
  {
   "cell_type": "code",
   "execution_count": 2,
   "metadata": {},
   "outputs": [],
   "source": [
    "lstm_mod = CoveredLSTM(len(charspace), 200, 3, len(charspace)).cuda()"
   ]
  },
  {
   "cell_type": "code",
   "execution_count": 3,
   "metadata": {},
   "outputs": [
    {
     "name": "stdout",
     "output_type": "stream",
     "text": [
      "training\n",
      "EPOCH 0\n",
      "      >> Epoch loss 4.09739 accuracy 0.176                    in 83.3412s\n",
      "      >> Epoch loss 1.70712 accuracy 0.189                    in 16.9152s\n",
      "      sample line: KOR: It's a mindsifter or mindripper, depending on how much force is used. We can record every thought, every bit of knowledge in a man's mind. Of course, when that much force is used, the mind is emptied. Permanently, I'm afraid. What's left is more vegetable than human.\n",
      "      sample output: KIRK:                                                                                                                                                                                                                                                                           \n",
      "EPOCH 1\n",
      "      >> Epoch loss 3.43885 accuracy 0.268                    in 83.4215s\n",
      "      >> Epoch loss 1.24006 accuracy 0.361                    in 16.9626s\n",
      "      sample line: KIRK: Thank you, Alexander.\n",
      "      sample output: KIRK: Ihet  tou  tne eng   \n",
      "EPOCH 2\n",
      "      >> Epoch loss 2.72197 accuracy 0.393                    in 83.3531s\n",
      "      >> Epoch loss 1.05008 accuracy 0.449                    in 16.8642s\n",
      "      sample line: SHAHNA: Then teach me how, and I will follow you.\n",
      "      sample output: SPOK:A: Ihe ethrke te aau  snd y wanl tore n tou \n",
      "EPOCH 3\n",
      "      >> Epoch loss 2.37529 accuracy 0.462                    in 83.4114s\n",
      "      >> Epoch loss 0.93804 accuracy 0.501                    in 16.8961s\n",
      "      sample line: COMPUTER: Rocket passing twenty mile arc and accelerating.\n",
      "      sample output: CIMMUTER: Ient d torting the    tegl.tneetnd t tepidyteog \n",
      "EPOCH 4\n",
      "      >> Epoch loss 2.16175 accuracy 0.505                    in 83.4438s\n",
      "      >> Epoch loss 0.86187 accuracy 0.537                    in 16.8878s\n",
      "      sample line: MCCOY: Has a kind of a ring to it, don't you think, James?\n",
      "      sample output: MCCOY: Ien t cild of t cegg oo tn  Con't kou ahenk  sira  \n",
      "EPOCH 5\n",
      "      >> Epoch loss 2.02215 accuracy 0.533                    in 82.8900s\n",
      "      >> Epoch loss 0.81739 accuracy 0.557                    in 16.6773s\n",
      "      sample line: KIRK: Yes. I want you to leave my crewmen alone. I want you to leave my crewwomen alone too.  You're not to dance with him. I don't like it.\n",
      "      sample output: KIRK: Tos, I dant tou ao tiave te soew anttnlng ~I want tou ao tiave te soew ane ttnlne oo  ~ITou le aot th totge thth tem.~I won't koke tt \n",
      "EPOCH 6\n",
      "      >> Epoch loss 1.92657 accuracy 0.553                    in 82.7547s\n",
      "      >> Epoch loss 0.78765 accuracy 0.572                    in 16.8289s\n",
      "      sample line: KIRK: Yes, we were, Commodore.\n",
      "      sample output: KIRK: Tos, se cire  Cammanore.\n",
      "EPOCH 7\n",
      "      >> Epoch loss 1.85533 accuracy 0.567                    in 82.8617s\n",
      "      >> Epoch loss 0.76369 accuracy 0.583                    in 16.6836s\n",
      "      sample line: KIRK: Well, Spock, I'm going to have to ask you to get in touch with the Horta again. Tell her our proposition. She and her children can do all the tunnelling they want. Our people will remove the minerals, and each side will leave the other alone. Think she'll go for it?\n",
      "      sample output: KIRK: Ih l, Ipock, y m aoing to bave th blk tou ah bot tt th rh thth the salt lonains~Ihll mereaft slobisioyon ~Ipe wrd tereaoald en ton yo tnl rhe srnnel yng ooe  want ~Iur srrple aitl becere the sand  l   and txsh oege thtl betve the snher snlng.~Ihesk Ihi sl bo tor tt \n",
      "EPOCH 8\n",
      "      >> Epoch loss 1.80134 accuracy 0.578                    in 83.0968s\n",
      "      >> Epoch loss 0.74324 accuracy 0.593                    in 16.7253s\n",
      "      sample line: SPOCK: The usage is correct. The creator was simply testing your memory banks.\n",
      "      sample output: SPOCK: Ihe cnibe os tomrect.~Ihe soeatur sas aorple ahnt ng tou  panory cecks \n",
      "EPOCH 9\n",
      "      >> Epoch loss 1.75695 accuracy 0.586                    in 83.3662s\n",
      "      >> Epoch loss 0.72771 accuracy 0.600                    in 16.7814s\n",
      "      sample line: KIRK: In here, I presume, Doctor.\n",
      "      sample output: KIRK: I  tere, C wrosere  toctor.\n",
      "EPOCH 10\n",
      "      >> Epoch loss 1.72163 accuracy 0.593                    in 83.4186s\n",
      "      >> Epoch loss 0.71654 accuracy 0.605                    in 16.9202s\n",
      "      sample line: SULU: Tractor beam engaged.\n",
      "      sample output: SPLU: Ihaneor seam onoined \n",
      "EPOCH 11\n",
      "      >> Epoch loss 1.69036 accuracy 0.599                    in 83.1078s\n",
      "      >> Epoch loss 0.70728 accuracy 0.610                    in 16.7650s\n",
      "      sample line: CHARLIE: He was going to hurt me.\n",
      "      sample output: CHEPLIE: Ie was aoing to bamt te \n",
      "EPOCH 12\n",
      "      >> Epoch loss 1.66469 accuracy 0.604                    in 83.3604s\n",
      "      >> Epoch loss 0.69778 accuracy 0.615                    in 16.8224s\n",
      "      sample line: SPOCK: The other ship is interspatially trapped. It should reappear in one hour and fifty three minutes. We request you stand by until then.\n",
      "      sample output: SPOCK: Ihe sther ship is an eretaneon y aoanped ~T  ihould beallerrett tue oaursond tirty thaoe manutes ~Te aeauest tou aoard ay tsdil the  \n",
      "EPOCH 13\n",
      "      >> Epoch loss 1.64127 accuracy 0.609                    in 83.5415s\n",
      "      >> Epoch loss 0.69094 accuracy 0.618                    in 16.8186s\n",
      "      sample line: KIRK: They have to answer.\n",
      "      sample output: KIRK: Ihe  wave to bcswer \n",
      "EPOCH 14\n",
      "      >> Epoch loss 1.62126 accuracy 0.613                    in 83.4357s\n",
      "      >> Epoch loss 0.68546 accuracy 0.620                    in 16.7426s\n",
      "      sample line: KIRK: I'll meet you in the lab.\n",
      "      sample output: KIRK: I ml baat you an the saso\n",
      "EPOCH 15\n",
      "      >> Epoch loss 1.60447 accuracy 0.617                    in 83.0799s\n",
      "      >> Epoch loss 0.67923 accuracy 0.624                    in 16.8139s\n",
      "      sample line: MAAB: Klingon. There's nothing to concern you there.\n",
      "      sample output: MCR:: Tiingon ~Ihe e s no hing to tontern touraoe e \n",
      "EPOCH 16\n",
      "      >> Epoch loss 1.58906 accuracy 0.620                    in 82.9665s\n",
      "      >> Epoch loss 0.67450 accuracy 0.626                    in 16.7492s\n",
      "      sample line: KIRK: Do you think you can do it again?\n",
      "      sample output: KIRK: Io you hhink Iou wan to it?tnain?\n",
      "EPOCH 17\n",
      "      >> Epoch loss 1.57513 accuracy 0.623                    in 83.4172s\n",
      "      >> Epoch loss 0.67042 accuracy 0.628                    in 16.8486s\n",
      "      sample line: MAGISTRATE: And more.\n",
      "      sample output: MCRISTRATE: I d tere \n",
      "EPOCH 18\n",
      "      >> Epoch loss 1.56186 accuracy 0.625                    in 83.4264s\n",
      "      >> Epoch loss 0.66670 accuracy 0.629                    in 16.9174s\n",
      "      sample line: KIRK: Bones!\n",
      "      sample output: KIRK: Iunes,\n",
      "EPOCH 19\n",
      "      >> Epoch loss 1.55030 accuracy 0.628                    in 83.6257s\n",
      "      >> Epoch loss 0.66371 accuracy 0.631                    in 16.9472s\n",
      "      sample line: SCOTT: And mine.\n",
      "      sample output: SPOTT: Ayd tynd \n",
      "EPOCH 20\n",
      "      >> Epoch loss 1.53971 accuracy 0.630                    in 83.6040s\n",
      "      >> Epoch loss 0.66120 accuracy 0.632                    in 16.8044s\n",
      "      sample line: KIRK: Kirk to Enterprise. What's happening up there?\n",
      "      sample output: KIRK: Iirk ho Enterprise. Ieat s tappeneng ts toere?\n",
      "EPOCH 21\n",
      "      >> Epoch loss 1.53066 accuracy 0.632                    in 83.3986s\n",
      "      >> Epoch loss 0.65846 accuracy 0.633                    in 16.8901s\n",
      "      sample line: MITCHELL: I'm trying to tell you I feel fine. When do I go back on duty?\n",
      "      sample output: MCRCHELL: I m shying to tall you t woel aove. Iear to y he aack tn tely?\n",
      "EPOCH 22\n",
      "      >> Epoch loss 1.52013 accuracy 0.634                    in 83.6523s\n",
      "      >> Epoch loss 0.65576 accuracy 0.634                    in 16.8409s\n",
      "      sample line: MCCOY: Yes, yes. Now. But before, adrenaline. Highly promising. Early research, but they abandoned it when hyronalin was discovered.\n",
      "      sample output: MCCOY: Ios, Ies, Io,  Iut Ie ore  Inmaail.ses~Iesh y deobiseng  Inrt  teaparch  Cut Ihe  wroidaned tt.ohan te osds sasas aescovered \n",
      "EPOCH 23\n",
      "      >> Epoch loss 1.51162 accuracy 0.635                    in 83.5132s\n",
      "      >> Epoch loss 0.65343 accuracy 0.636                    in 16.9678s\n",
      "      sample line: KIRK: Because you murdered it. What is the penalty for murder?\n",
      "      sample output: KIRK: Iuaause you wusderer yt ~Ihat is iha sooeloy oor tecder?\n"
     ]
    },
    {
     "name": "stdout",
     "output_type": "stream",
     "text": [
      "EPOCH 24\n",
      "      >> Epoch loss 1.50275 accuracy 0.637                    in 83.4874s\n",
      "      >> Epoch loss 0.65134 accuracy 0.637                    in 16.7929s\n",
      "      sample line: M'RESS: Excuse me for laughing, but\n",
      "      sample output: MCRESS: Tncuse me.tor tisnh.ng  Cut\n"
     ]
    }
   ],
   "source": [
    "print(\"training\")\n",
    "trained_model, train_loss_acc, test_loss_acc = train(train_data, test_data, lstm_mod, resume_from=0, save_model_every=5,\n",
    "                                                     learnrate=1e-1, batch_size=16, sample_every=5000, epoch=25)"
   ]
  },
  {
   "cell_type": "code",
   "execution_count": 4,
   "metadata": {},
   "outputs": [
    {
     "data": {
      "image/png": "[encoded data removed]",
      "text/plain": [
       "<Figure size 432x288 with 2 Axes>"
      ]
     },
     "metadata": {},
     "output_type": "display_data"
    }
   ],
   "source": [
    "plot_over_epoch(train_loss_acc, test_loss_acc)"
   ]
  },
  {
   "cell_type": "code",
   "execution_count": 5,
   "metadata": {},
   "outputs": [
    {
     "name": "stdout",
     "output_type": "stream",
     "text": [
      "GENERATED: JONES: You may be a chance to see that the victory computer system of this ship. We don't know what w\n",
      "GENERATED: TANNELL: I'm sorry, Mister Spock.\n",
      "GENERATED: MCCOY: Well, that would have to be able to lose the starship. All right. It's not in my control of th\n",
      "GENERATED: JONES: Yes. They might be in these things of this ship. I've got to know of it.\n",
      "GENERATED: I What is it.\n",
      "GENERATED: DEELA: You are all of the proper readings on the man for starship to interference with our destroyed \n",
      "GENERATED: NOEL: It would stay over to the power. I don't know what you're trying to ask the rest instruments no\n",
      "GENERATED: ZANRA: They want to live to me.\n",
      "GENERATED: LINCOLN: Of course, you can't help you, Captain.\n",
      "GENERATED: JONES: Stand by to prove it. And the last permons of the Scalling. That is all the others in a human \n",
      "GENERATED: ONE : Transporter room in the starship with the problem.\n",
      "GENERATED: ZARABETH: We will not know away from the way. I want to be a long running and getting all the answers\n",
      "GENERATED: PIKE: The transporter room ship when they were considered that they stayed up to the transporter room\n",
      "GENERATED: VANDERBERG: You are the search, they're not been getting to the force than you are to have entered in\n",
      "GENERATED: CHEKOV: Stop it.\n",
      "GENERATED: ELIAS: Captain, I believe that we have to come to the Klingons.\n",
      "GENERATED: VANDERLER : You will do it.\n",
      "GENERATED: ZANRA: I suggest you see that the rest of your men and of it.\n",
      "GENERATED: UHURA: Captain, the Enterprise so there is a paradorise and the beginning to me about everything on t\n",
      "GENERATED: RELER: I can think of the brain is all the body and so beam up. And I think I do was the transporter \n",
      "GENERATED: FINTON: And the power of the point of explosion of the medical power of this planet will know what he\n",
      "GENERATED: PIKE: You will have to take us to your home who are alive the same their mind of the ship's problem, \n",
      "GENERATED: UHURA: It is the lada is the ship is beginning. The Enterprise is a chance with the ship can tell me,\n",
      "GENERATED: APELLO: You are so interesting, Captain. It is not dead.\n",
      "GENERATED: TARAR: And I can do to me, I don't like the planet for a specimen substances for that control of this\n",
      "GENERATED: JARIS: I will never see it, sir. I think I do not regret it. It was no choice.\n",
      "GENERATED: FINA: We cannot be affected to help us as a weapon to the controls.\n",
      "GENERATED: IRANDA: You can start to remember.\n",
      "GENERATED: JANAR: We can please that I can't have a more computers are going to take me and only more than a sta\n",
      "GENERATED: ZELA: It's all right, I have a course over what I want to see it what we could be a beautiful as a de\n",
      "GENERATED: JARIS: I can accomplise him, but I will not be in the people.\n",
      "GENERATED: RELER: They've got to consider you mean anything. I will not be together.\n",
      "GENERATED: GOMAS: You are the area, sir.\n",
      "GENERATED: FOMAN: And the ship is a starship state.\n",
      "GENERATED: ADAM: Well, we are going to be able to make the transporter room.\n",
      "GENERATED: UHURA: Captain, I don't know what you wish to see that I have a foolish the power. Some of you grow u\n",
      "GENERATED: BELE: He was not and the attack.\n",
      "GENERATED: HUDIS: Yes. We can see. I don't know what you can help you. I am a simple man and the ship for my lif\n",
      "GENERATED: RAND: Oh, it's a computer is a from the last weapons. All right. The rest of the Captain of the Enter\n",
      "GENERATED: JANIST: You know he will be a starship there. If I do about the answers. I don't know where I saw tha\n",
      "GENERATED: WALLACE: All right, I must have forced the power sort. I want to see to the ship.\n",
      "GENERATED: VANDERBERG: Well, I can't read him aboard the reports to the machine is a fall of the crew of the tra\n",
      "GENERATED: BOMA: You are a control that confirm the ship or in the starship with the last torture to the first o\n",
      "GENERATED: BELE: You don't know what I see memory interesting is in the Enterprise. Captain, I suggest you out o\n",
      "GENERATED: NOTCER: You are there?\n",
      "GENERATED: PIKE: The planet's surface we are all the propersy. The landing party of a computer readings on the r\n",
      "GENERATED: JARIS: I don't know. I want to have to lose you.\n",
      "GENERATED: MCCOY: Well, what you have here, how long being fired to from the tribbles and people with beam up to\n",
      "GENERATED: JANIS: Captain, we're going to know what a starship Vulcan like that machine in the fact of the power\n",
      "GENERATED: WOCON: The starship control of the transporter room. The concern to your ship and free to be a long o\n"
     ]
    }
   ],
   "source": [
    "# sampling 50 sentences\n",
    "for i in range(50):\n",
    "    print('GENERATED:', trained_model.sample())"
   ]
  },
  {
   "cell_type": "code",
   "execution_count": null,
   "metadata": {},
   "outputs": [],
   "source": []
  }
 ],
 "metadata": {
  "kernelspec": {
   "display_name": "Python 3",
   "language": "python",
   "name": "python3"
  },
  "language_info": {
   "codemirror_mode": {
    "name": "ipython",
    "version": 3
   },
   "file_extension": ".py",
   "mimetype": "text/x-python",
   "name": "python",
   "nbconvert_exporter": "python",
   "pygments_lexer": "ipython3",
   "version": "3.6.5"
  }
 },
 "nbformat": 4,
 "nbformat_minor": 2
}
